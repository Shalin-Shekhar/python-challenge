{
 "cells": [
  {
   "cell_type": "code",
   "execution_count": 1,
   "metadata": {},
   "outputs": [],
   "source": [
    "import os\n",
    "import csv"
   ]
  },
  {
   "cell_type": "code",
   "execution_count": 2,
   "metadata": {},
   "outputs": [],
   "source": [
    "def unique(InputList):\n",
    "    uq_list = []\n",
    "    for name in InputList:\n",
    "        if name not in uq_list:\n",
    "            uq_list.append(name)        \n",
    "    return uq_list"
   ]
  },
  {
   "cell_type": "code",
   "execution_count": 15,
   "metadata": {},
   "outputs": [],
   "source": [
    "csvpath = os.path.join(\".\", \"Resources\", \"election_data.csv\")\n",
    "\n",
    "# Lists to store data\n",
    "candidates = []\n",
    "voter = []\n",
    "votes = []\n",
    "total_votes = 0\n",
    "votes_list = []\n",
    "votes_per_candidate = []"
   ]
  },
  {
   "cell_type": "code",
   "execution_count": 16,
   "metadata": {},
   "outputs": [
    {
     "name": "stdout",
     "output_type": "stream",
     "text": [
      "['Khan', 'Correy', 'Li', \"O'Tooley\"]\n"
     ]
    }
   ],
   "source": [
    "with open(csvpath, newline=\"\") as csvfile:\n",
    "    csvreader = csv.reader(csvfile, delimiter=\",\")\n",
    "\n",
    "    # Identify the header\n",
    "    header = next(csvreader)\n",
    "\n",
    "    for row in csvreader:\n",
    "        # Add Candidates\n",
    "        votes.append(row[2])\n",
    "        # Add votes\n",
    "        voter.append(row[0])\n",
    "\n",
    "    # do all the work on data\n",
    "    total_votes = int(len(voter))\n",
    "    candidates = unique(votes)\n",
    "print(candidates)"
   ]
  },
  {
   "cell_type": "code",
   "execution_count": 17,
   "metadata": {},
   "outputs": [
    {
     "name": "stdout",
     "output_type": "stream",
     "text": [
      "Khan: 63.0% (2218231)\n",
      "Correy: 20.0% (704200)\n",
      "Li: 14.0% (492940)\n",
      "O'Tooley: 3.0% (105630)\n"
     ]
    }
   ],
   "source": [
    "for candidate in candidates:\n",
    "    votes_list = [vote for vote in votes if vote == candidate]\n",
    "    votes_per_candidate.append(round(float(((len(votes_list))/total_votes) * 100),3))\n",
    "    print(F'{candidate}: {round(float(((len(votes_list))/total_votes) * 100),3)}% ({int(len(votes_list))})')\n"
   ]
  },
  {
   "cell_type": "code",
   "execution_count": 20,
   "metadata": {},
   "outputs": [
    {
     "name": "stdout",
     "output_type": "stream",
     "text": [
      "0\n",
      "Winner: Khan\n"
     ]
    }
   ],
   "source": [
    "idx = votes_per_candidate.index(max(votes_per_candidate))\n",
    "print(idx)\n",
    "print(f\"Winner: {candidates[idx]}\")"
   ]
  },
  {
   "cell_type": "code",
   "execution_count": null,
   "metadata": {},
   "outputs": [],
   "source": []
  },
  {
   "cell_type": "code",
   "execution_count": null,
   "metadata": {},
   "outputs": [],
   "source": []
  }
 ],
 "metadata": {
  "kernelspec": {
   "display_name": "Python 3",
   "language": "python",
   "name": "python3"
  },
  "language_info": {
   "codemirror_mode": {
    "name": "ipython",
    "version": 3
   },
   "file_extension": ".py",
   "mimetype": "text/x-python",
   "name": "python",
   "nbconvert_exporter": "python",
   "pygments_lexer": "ipython3",
   "version": "3.6.5"
  }
 },
 "nbformat": 4,
 "nbformat_minor": 2
}
